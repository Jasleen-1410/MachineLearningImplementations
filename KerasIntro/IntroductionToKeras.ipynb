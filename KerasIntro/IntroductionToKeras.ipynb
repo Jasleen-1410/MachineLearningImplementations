{
 "cells": [
  {
   "cell_type": "code",
   "execution_count": 1,
   "metadata": {},
   "outputs": [
    {
     "name": "stderr",
     "output_type": "stream",
     "text": [
      "/anaconda3/lib/python3.6/site-packages/h5py/__init__.py:36: FutureWarning: Conversion of the second argument of issubdtype from `float` to `np.floating` is deprecated. In future, it will be treated as `np.float64 == np.dtype(float).type`.\n",
      "  from ._conv import register_converters as _register_converters\n",
      "Using TensorFlow backend.\n"
     ]
    }
   ],
   "source": [
    "from keras.models import Sequential # Import the sequential model for NN \n",
    "from keras.layers import Dense # Import Dense Layer for defining the layer \n",
    "from sklearn import datasets \n",
    "from sklearn.model_selection import train_test_split \n",
    "from sklearn.preprocessing import StandardScaler "
   ]
  },
  {
   "cell_type": "code",
   "execution_count": 2,
   "metadata": {},
   "outputs": [],
   "source": [
    "# Creating a model\n",
    "model = Sequential()"
   ]
  },
  {
   "cell_type": "code",
   "execution_count": 3,
   "metadata": {},
   "outputs": [],
   "source": [
    "# Add layers to the model\n",
    "layer1 = Dense(units=32, activation='relu', input_dim=30)\n",
    "layer2 = Dense(units=16, activation='relu')\n",
    "out_layer = Dense(units=1, activation='sigmoid')\n",
    "model.add(layer1)\n",
    "model.add(layer2)\n",
    "model.add(out_layer)"
   ]
  },
  {
   "cell_type": "code",
   "execution_count": 4,
   "metadata": {},
   "outputs": [],
   "source": [
    "# Compile the model\n",
    "model.compile(optimizer='adam', loss='binary_crossentropy', metrics=['accuracy'])"
   ]
  },
  {
   "cell_type": "code",
   "execution_count": 5,
   "metadata": {},
   "outputs": [],
   "source": [
    "# Split the dataset\n",
    "cancer = datasets.load_breast_cancer()\n",
    "x_train, x_test, y_train, y_test = train_test_split(cancer.data, cancer.target, test_size=0.2, random_state=0)"
   ]
  },
  {
   "cell_type": "code",
   "execution_count": 6,
   "metadata": {},
   "outputs": [],
   "source": [
    "sc = StandardScaler()\n",
    "x_train = sc.fit_transform(x_train)\n",
    "x_test = sc.fit_transform(x_test)"
   ]
  },
  {
   "cell_type": "code",
   "execution_count": 7,
   "metadata": {},
   "outputs": [
    {
     "name": "stdout",
     "output_type": "stream",
     "text": [
      "Epoch 1/20\n",
      "455/455 [==============================] - 1s 3ms/step - loss: 0.5072 - acc: 0.8857\n",
      "Epoch 2/20\n",
      "455/455 [==============================] - 0s 97us/step - loss: 0.3730 - acc: 0.9385\n",
      "Epoch 3/20\n",
      "455/455 [==============================] - 0s 88us/step - loss: 0.2808 - acc: 0.9495\n",
      "Epoch 4/20\n",
      "455/455 [==============================] - 0s 98us/step - loss: 0.2180 - acc: 0.9538\n",
      "Epoch 5/20\n",
      "455/455 [==============================] - 0s 90us/step - loss: 0.1803 - acc: 0.9582\n",
      "Epoch 6/20\n",
      "455/455 [==============================] - 0s 83us/step - loss: 0.1573 - acc: 0.9626\n",
      "Epoch 7/20\n",
      "455/455 [==============================] - 0s 86us/step - loss: 0.1385 - acc: 0.9648\n",
      "Epoch 8/20\n",
      "455/455 [==============================] - 0s 84us/step - loss: 0.1249 - acc: 0.9670\n",
      "Epoch 9/20\n",
      "455/455 [==============================] - 0s 79us/step - loss: 0.1138 - acc: 0.9670\n",
      "Epoch 10/20\n",
      "455/455 [==============================] - 0s 89us/step - loss: 0.1048 - acc: 0.9692\n",
      "Epoch 11/20\n",
      "455/455 [==============================] - 0s 87us/step - loss: 0.0980 - acc: 0.9714\n",
      "Epoch 12/20\n",
      "455/455 [==============================] - 0s 84us/step - loss: 0.0920 - acc: 0.9736\n",
      "Epoch 13/20\n",
      "455/455 [==============================] - 0s 90us/step - loss: 0.0870 - acc: 0.9780\n",
      "Epoch 14/20\n",
      "455/455 [==============================] - 0s 96us/step - loss: 0.0833 - acc: 0.9780\n",
      "Epoch 15/20\n",
      "455/455 [==============================] - 0s 86us/step - loss: 0.0797 - acc: 0.9758\n",
      "Epoch 16/20\n",
      "455/455 [==============================] - 0s 88us/step - loss: 0.0764 - acc: 0.9780\n",
      "Epoch 17/20\n",
      "455/455 [==============================] - 0s 90us/step - loss: 0.0735 - acc: 0.9824\n",
      "Epoch 18/20\n",
      "455/455 [==============================] - 0s 81us/step - loss: 0.0709 - acc: 0.9824\n",
      "Epoch 19/20\n",
      "455/455 [==============================] - 0s 96us/step - loss: 0.0688 - acc: 0.9824\n",
      "Epoch 20/20\n",
      "455/455 [==============================] - 0s 87us/step - loss: 0.0664 - acc: 0.9824\n"
     ]
    },
    {
     "data": {
      "text/plain": [
       "<keras.callbacks.History at 0x10c5bf6a0>"
      ]
     },
     "execution_count": 7,
     "metadata": {},
     "output_type": "execute_result"
    }
   ],
   "source": [
    "# Fit the model\n",
    "model.fit(x_train, y_train, epochs=20, batch_size=50)"
   ]
  },
  {
   "cell_type": "code",
   "execution_count": 8,
   "metadata": {},
   "outputs": [
    {
     "name": "stdout",
     "output_type": "stream",
     "text": [
      "114/114 [==============================] - 0s 1ms/step\n",
      "[0.0943468239223748, 0.9649122817474499]\n"
     ]
    }
   ],
   "source": [
    "# Predict and evaluate\n",
    "predictions = model.predict(x_test)\n",
    "score = model.evaluate(x_test, y_test)\n",
    "print(score)"
   ]
  },
  {
   "cell_type": "code",
   "execution_count": null,
   "metadata": {},
   "outputs": [],
   "source": []
  }
 ],
 "metadata": {
  "kernelspec": {
   "display_name": "Python 3",
   "language": "python",
   "name": "python3"
  },
  "language_info": {
   "codemirror_mode": {
    "name": "ipython",
    "version": 3
   },
   "file_extension": ".py",
   "mimetype": "text/x-python",
   "name": "python",
   "nbconvert_exporter": "python",
   "pygments_lexer": "ipython3",
   "version": "3.6.5"
  }
 },
 "nbformat": 4,
 "nbformat_minor": 2
}
