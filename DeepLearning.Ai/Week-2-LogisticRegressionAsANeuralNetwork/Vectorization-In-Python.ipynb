{
 "cells": [
  {
   "cell_type": "code",
   "execution_count": 1,
   "metadata": {},
   "outputs": [],
   "source": [
    "import numpy as np\n",
    "import time"
   ]
  },
  {
   "cell_type": "code",
   "execution_count": 10,
   "metadata": {},
   "outputs": [
    {
     "name": "stdout",
     "output_type": "stream",
     "text": [
      "250023.14436579758\n",
      "Time taken by np.dot is 1.5728473663330078\n",
      "\n",
      "\n",
      "250023.14436579865\n",
      "Time taken by for loop is 585.9959125518799\n"
     ]
    }
   ],
   "source": [
    "a = np.random.random(1000000)\n",
    "b = np.random.random(1000000)\n",
    "tic = time.time()\n",
    "c = np.dot(a,b)\n",
    "toc = time.time()\n",
    "print(c)\n",
    "print(\"Time taken by np.dot is \" + str(1000*(toc-tic)) + \"\\n\\n\")\n",
    "\n",
    "c = 0\n",
    "tic = time.time()\n",
    "for i in range(a.size):\n",
    "    c+=a[i]*b[i]\n",
    "toc = time.time()\n",
    "print(c)\n",
    "print(\"Time taken by for loop is \" + str(1000*(toc-tic)))"
   ]
  },
  {
   "cell_type": "code",
   "execution_count": 25,
   "metadata": {},
   "outputs": [],
   "source": [
    "a = np.random.randn(3, 3)\n",
    "b = np.random.randn(3, 1)\n",
    "c = a*b"
   ]
  },
  {
   "cell_type": "code",
   "execution_count": 26,
   "metadata": {},
   "outputs": [
    {
     "name": "stdout",
     "output_type": "stream",
     "text": [
      "[[ 0.03632149 -0.07810957 -0.02730961]\n",
      " [ 0.99335372  0.05769023  0.45113658]\n",
      " [ 0.27451529  0.17607497  0.21610544]]\n",
      "[[-0.6531047   1.4045053   0.49106015]\n",
      " [ 1.18767104  0.06897545  0.53938677]\n",
      " [ 0.76815174  0.49269493  0.60470863]]\n",
      "[[-0.05561358]\n",
      " [ 0.83638793]\n",
      " [ 0.35737118]]\n"
     ]
    }
   ],
   "source": [
    "print(c)\n",
    "print(a)\n",
    "print(b)"
   ]
  },
  {
   "cell_type": "code",
   "execution_count": 29,
   "metadata": {},
   "outputs": [],
   "source": [
    "import math\n",
    "def sigmoid(x):\n",
    "    \"\"\"\n",
    "    Compute the sigmoid of x\n",
    "\n",
    "    Arguments:\n",
    "    x -- A scalar or numpy array of any size\n",
    "\n",
    "    Return:\n",
    "    s -- sigmoid(x)\n",
    "    \"\"\"\n",
    "    \n",
    "    ### START CODE HERE ### (≈ 1 line of code)\n",
    "    s = 1/(1+np.exp(-1*x))\n",
    "    ### END CODE HERE ###\n",
    "    \n",
    "    return s"
   ]
  },
  {
   "cell_type": "code",
   "execution_count": 30,
   "metadata": {},
   "outputs": [
    {
     "data": {
      "text/plain": [
       "array([0.73105858, 0.88079708, 0.95257413])"
      ]
     },
     "execution_count": 30,
     "metadata": {},
     "output_type": "execute_result"
    }
   ],
   "source": [
    "x = np.array([1, 2, 3])\n",
    "sigmoid(x)"
   ]
  },
  {
   "cell_type": "code",
   "execution_count": null,
   "metadata": {},
   "outputs": [],
   "source": []
  }
 ],
 "metadata": {
  "kernelspec": {
   "display_name": "Python 3",
   "language": "python",
   "name": "python3"
  },
  "language_info": {
   "codemirror_mode": {
    "name": "ipython",
    "version": 3
   },
   "file_extension": ".py",
   "mimetype": "text/x-python",
   "name": "python",
   "nbconvert_exporter": "python",
   "pygments_lexer": "ipython3",
   "version": "3.6.5"
  }
 },
 "nbformat": 4,
 "nbformat_minor": 2
}
